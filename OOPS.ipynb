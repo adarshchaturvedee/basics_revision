{
 "cells": [
  {
   "cell_type": "code",
   "execution_count": 2,
   "id": "ba1389a3",
   "metadata": {},
   "outputs": [],
   "source": [
    "class Account:\n",
    "    cnt=1\n",
    "    def __init__(self,openBal=0):\n",
    "        self.numTrans = 0\n",
    "        self.maxTrans = 2\n",
    "        self.__openBal= openBal\n",
    "        self.ID=Account.cnt\n",
    "        Account.cnt+=1\n",
    "    def __str__(self):\n",
    "        return f\"{self.ID} has {self.__openBal}\"\n",
    "    def deposit (self, deposit):\n",
    "        if self.numTrans<self.maxTrans:\n",
    "            if deposit>0:\n",
    "                self.__openBal+=deposit\n",
    "                self.numTrans+=1\n",
    "    def withdraw (self, withdraw):\n",
    "        if withdraw>0 and withdraw<=self.__openBal and self.numTrans<self.maxTrans:\n",
    "            self.__openBal-=withdraw\n",
    "            self.numTrans+=1\n",
    "        else:\n",
    "            print(\"Insufficient balance\")\n",
    "    def getBalance(self):\n",
    "        return self.__openBal\n",
    "    def addInterest(self):\n",
    "        self.__openBal+=0.06*self.__openBal"
   ]
  },
  {
   "cell_type": "code",
   "execution_count": 48,
   "id": "477ebd28",
   "metadata": {},
   "outputs": [
    {
     "name": "stdout",
     "output_type": "stream",
     "text": [
      "1 has 100\n",
      "1 has 100\n"
     ]
    }
   ],
   "source": [
    "a1=Account(100)\n",
    "print(a1)\n",
    "a1.__openBal = 100000000\n",
    "print(a1)"
   ]
  },
  {
   "cell_type": "code",
   "execution_count": null,
   "id": "aa367769",
   "metadata": {},
   "outputs": [],
   "source": [
    "class SavAcc(Account):\n",
    "    def __init__(self, openBal=0):\n",
    "        super().__init__(self, openBal=0)\n",
    "        self.maxTrans = 5\n",
    "    def getInterest(self):\n",
    "         return 0.06*self.getBalance()\n",
    "        \n",
    "class CurAcc(Account):\n",
    "    def __init__ (self, openBal = 0):\n",
    "        Account.__init__(self,openBal=0)\n",
    "        self.maxTrans = 100\n",
    "        "
   ]
  },
  {
   "cell_type": "code",
   "execution_count": null,
   "id": "0e665a4c",
   "metadata": {},
   "outputs": [],
   "source": []
  }
 ],
 "metadata": {
  "kernelspec": {
   "display_name": "Python 3",
   "language": "python",
   "name": "python3"
  },
  "language_info": {
   "codemirror_mode": {
    "name": "ipython",
    "version": 3
   },
   "file_extension": ".py",
   "mimetype": "text/x-python",
   "name": "python",
   "nbconvert_exporter": "python",
   "pygments_lexer": "ipython3",
   "version": "3.9.5"
  }
 },
 "nbformat": 4,
 "nbformat_minor": 5
}
