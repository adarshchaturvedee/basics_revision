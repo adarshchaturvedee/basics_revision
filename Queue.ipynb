{
 "cells": [
  {
   "cell_type": "code",
   "execution_count": 1,
   "id": "dd98d609",
   "metadata": {},
   "outputs": [],
   "source": [
    "class Node:\n",
    "    def __init__(self, val):\n",
    "        self.val = val\n",
    "        self.next = None"
   ]
  },
  {
   "cell_type": "code",
   "execution_count": 16,
   "id": "7a12d545",
   "metadata": {},
   "outputs": [],
   "source": [
    "class Queue:\n",
    "    def __init__(self):\n",
    "        self.start = None\n",
    "        self.end = None\n",
    "        self.count = 0\n",
    "    def enqueue(self, val):\n",
    "            newNode = Node(val)\n",
    "            if self.end == None:\n",
    "                self.start=self.end=newNode\n",
    "            else:\n",
    "                self.end.next = newNode\n",
    "                self.end = newNode\n",
    "            self.count+=1\n",
    "    def dequeue(self):\n",
    "            if self.start == None:\n",
    "                return \"Tera baap yahaan chhod ke gaya tha ki teri Ma?\"\n",
    "            elif self.start==self.end:\n",
    "                oldNode=self.start\n",
    "                self.start=self.end=None\n",
    "                self.count-=1\n",
    "                return oldNode.val\n",
    "            else:\n",
    "                oldNode = self.start\n",
    "                self.start=self.start.next\n",
    "                self.count-=1\n",
    "                return oldNode.val\n",
    "    def __str__(self):\n",
    "        s =''\n",
    "        current = self.start\n",
    "        while current != None:\n",
    "            s+=str(current.val)+ '-->'\n",
    "            current=current.next\n",
    "        return s\n",
    "    def front(self):\n",
    "        return self.start.val\n",
    "    def getSize(self):\n",
    "        return self.count\n",
    "    def isEmpty(self):\n",
    "        return self.count==0"
   ]
  },
  {
   "cell_type": "code",
   "execution_count": 17,
   "id": "899ea1d8",
   "metadata": {},
   "outputs": [
    {
     "name": "stdout",
     "output_type": "stream",
     "text": [
      "1-->3-->5-->7-->9-->\n"
     ]
    }
   ],
   "source": [
    "q1 = Queue()\n",
    "q1.enqueue(1)\n",
    "q1.enqueue(3)\n",
    "q1.enqueue(5)\n",
    "q1.enqueue(7)\n",
    "q1.enqueue(9)\n",
    "print(q1)"
   ]
  },
  {
   "cell_type": "code",
   "execution_count": 18,
   "id": "d41c28f5",
   "metadata": {},
   "outputs": [
    {
     "name": "stdout",
     "output_type": "stream",
     "text": [
      "3-->5-->7-->9-->\n"
     ]
    }
   ],
   "source": [
    "q1.dequeue()\n",
    "print(q1)"
   ]
  },
  {
   "cell_type": "code",
   "execution_count": 19,
   "id": "1d3d1c89",
   "metadata": {},
   "outputs": [
    {
     "data": {
      "text/plain": [
       "3"
      ]
     },
     "execution_count": 19,
     "metadata": {},
     "output_type": "execute_result"
    }
   ],
   "source": [
    "q1.front()"
   ]
  },
  {
   "cell_type": "code",
   "execution_count": 20,
   "id": "26590776",
   "metadata": {},
   "outputs": [
    {
     "data": {
      "text/plain": [
       "4"
      ]
     },
     "execution_count": 20,
     "metadata": {},
     "output_type": "execute_result"
    }
   ],
   "source": [
    "q1.getSize()"
   ]
  },
  {
   "cell_type": "code",
   "execution_count": 21,
   "id": "bcbb6f4a",
   "metadata": {},
   "outputs": [
    {
     "data": {
      "text/plain": [
       "False"
      ]
     },
     "execution_count": 21,
     "metadata": {},
     "output_type": "execute_result"
    }
   ],
   "source": [
    "q1.isEmpty()"
   ]
  },
  {
   "cell_type": "code",
   "execution_count": null,
   "id": "ec3364a9",
   "metadata": {},
   "outputs": [],
   "source": []
  }
 ],
 "metadata": {
  "kernelspec": {
   "display_name": "Python 3",
   "language": "python",
   "name": "python3"
  },
  "language_info": {
   "codemirror_mode": {
    "name": "ipython",
    "version": 3
   },
   "file_extension": ".py",
   "mimetype": "text/x-python",
   "name": "python",
   "nbconvert_exporter": "python",
   "pygments_lexer": "ipython3",
   "version": "3.9.5"
  }
 },
 "nbformat": 4,
 "nbformat_minor": 5
}
